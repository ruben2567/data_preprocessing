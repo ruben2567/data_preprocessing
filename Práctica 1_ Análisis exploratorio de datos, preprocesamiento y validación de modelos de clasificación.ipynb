{
 "cells":[
  {
   "cell_type":"markdown",
   "source":[
    "# Práctica 1: Análisis exploratorio de datos, preprocesamiento y validación de modelos de clasificación.\n",
    "## Minería de Datos\n",
    "### Curso académico 2022-2023\n",
    "Realizado por: \n",
    "* Domingo José Caballero Navarro \n",
    "* Rubén Castillo Carrasco\n",
    "\n",
    "<a id=\"índice\"><\/a>\n",
    "<h2><font size=5>Índice<\/font><\/h2>\n",
    "\n",
    "* [1. Introducción](#introduccion)\n",
    "* [2. Almacenamiento de datos](#almacenamiento)\n",
    "* [3. Análisis exploratorio de datos](#analisis)\n",
    "* [4. Preprocesamiento de datos](#preprocesamiento)\n",
    "* [5. Validación de modelos](#validacion)"
   ],
   "attachments":{
    
   },
   "metadata":{
    "datalore":{
     "node_id":"DvxUm42If6bRAWbUNtPpll",
     "type":"MD",
     "hide_input_from_viewers":false,
     "hide_output_from_viewers":false,
     "report_properties":{
      
     }
    }
   }
  },
  {
   "cell_type":"markdown",
   "source":[
    "# <a id=\"introduccion\"><\/a>\n",
    "# <font> 1. Introducción<\/font>\n",
    "En esta práctica se llevará a cabo un análisis exploratorio sobre una base de datos del Titanic, además, un preprocesamiento de dichos datos y una validación de modelos. El objetivo principal es aprender a interpretar los datos para una buena preparación y aprender a interpretar los resultados de los distintos modelos."
   ],
   "attachments":{
    
   },
   "metadata":{
    "datalore":{
     "node_id":"j6VsaP2ZkL6OAC1gcw8VZr",
     "type":"MD",
     "hide_input_from_viewers":false,
     "hide_output_from_viewers":false,
     "report_properties":{
      
     }
    }
   }
  },
  {
   "cell_type":"code",
   "source":[
    "seed = 27912"
   ],
   "execution_count":1,
   "outputs":[
    
   ],
   "metadata":{
    "datalore":{
     "node_id":"5pYP4RWrNCi2JNHM6RulPo",
     "type":"CODE",
     "hide_input_from_viewers":false,
     "hide_output_from_viewers":false,
     "report_properties":{
      
     }
    }
   }
  },
  {
   "cell_type":"code",
   "source":[
    "from sklearn.utils import all_estimators\n",
    "filter = None\n",
    "estimators = all_estimators(filter)\n",
    "estimators = dict(estimators) "
   ],
   "execution_count":1,
   "outputs":[
    
   ],
   "metadata":{
    "datalore":{
     "node_id":"MJKyjUmIoELSVzoSFh0YlC",
     "type":"CODE",
     "hide_input_from_viewers":false,
     "hide_output_from_viewers":false,
     "report_properties":{
      
     }
    }
   }
  },
  {
   "cell_type":"markdown",
   "source":[
    "# <a id=\"almacenamiento\"><\/a>\n",
    "# <font> 2. Almacenamiento de datos<\/font>\n",
    "En primer lugar, empezaremos nuestra práctica cargando los datos de entrenamientos proporcionados por Kaggle, dicha base de datos se llama train.csv. Una vez cargada la base de datos, deberemos determinar la división entre base de entrenamiento y base de test, uan vez realizada dicha división podemos empezar a realiza un análisis exploratorio sobre los datos."
   ],
   "attachments":{
    
   },
   "metadata":{
    "datalore":{
     "node_id":"MQieCLWKjcO2RBOGOrpHCX",
     "type":"MD",
     "hide_input_from_viewers":false,
     "hide_output_from_viewers":false,
     "report_properties":{
      
     }
    }
   }
  },
  {
   "cell_type":"code",
   "source":[
    "import os\n",
    "path = os.path.join(os.path.sep, \"data\", \"workspace_files\", \"train.csv\")"
   ],
   "execution_count":3,
   "outputs":[
    
   ],
   "metadata":{
    "datalore":{
     "node_id":"aKffOs0nSy375RNPD1DGHb",
     "type":"CODE",
     "hide_input_from_viewers":false,
     "hide_output_from_viewers":false,
     "report_properties":{
      
     }
    }
   }
  },
  {
   "cell_type":"code",
   "source":[
    "identifier = \"PassengerId\"\n",
    "target = \"Survived\"\n",
    "dtype = {target: \"category\"}\n",
    "arguments = {\"filepath_or_buffer\": path, \"index_col\": identifier, \"dtype\": dtype}"
   ],
   "execution_count":4,
   "outputs":[
    
   ],
   "metadata":{
    "datalore":{
     "node_id":"BdZDXd97G6J23dGoyxbwbS",
     "type":"CODE",
     "hide_input_from_viewers":false,
     "hide_output_from_viewers":false,
     "report_properties":{
      
     }
    }
   }
  },
  {
   "cell_type":"code",
   "source":[
    "import pandas as pd\n",
    "data = pd.read_csv(**arguments)"
   ],
   "execution_count":5,
   "outputs":[
    
   ],
   "metadata":{
    "datalore":{
     "node_id":"Esa3W9BAZRhiI5hh9OgaGZ",
     "type":"CODE",
     "hide_input_from_viewers":false,
     "hide_output_from_viewers":false,
     "report_properties":{
      
     }
    }
   }
  },
  {
   "cell_type":"markdown",
   "source":[
    "\n",
    "Primero de todo, antes de realizar una visualización deberemos dividir la base de datos en dos, una para el entrenamiento a la que llamaremos train y otra para el test. Lo realizaremos antes de dicha visualización para que no afecte a nuestra percepción sobre los datos y no influya en nuestras tomas de decisiones. Para ello utilizaremos el método `train_test_split()` proporcionado por Scikit-Learn.\n",
    "\n",
    "Pero antes de aplicar directamente dicho método tendremos que comprobar que distribución sigue la variable clase en nuestro data set. Una vez comprobada la distrución realizaremos la partición entre los datos de entrenamiento y los datos de test."
   ],
   "attachments":{
    
   },
   "metadata":{
    "datalore":{
     "node_id":"5b1NcHR84yo13AtjWceQtZ",
     "type":"MD",
     "hide_input_from_viewers":false,
     "hide_output_from_viewers":false,
     "report_properties":{
      
     }
    }
   }
  },
  {
   "cell_type":"code",
   "source":[
    "import numpy as np\n",
    "_,counts = np.unique(data[target], return_counts=True)\n",
    "\n",
    "class_0 = counts[0]\/(counts[0]+counts[1])\n",
    "class_1 = counts[1]\/(counts[0]+counts[1])\n",
    "\n",
    "print(class_0,class_1)"
   ],
   "execution_count":6,
   "outputs":[
    {
     "name":"stdout",
     "text":[
      "0.6161616161616161 0.3838383838383838\n"
     ],
     "output_type":"stream"
    }
   ],
   "metadata":{
    "datalore":{
     "node_id":"lMyR18FykSoob4XapWpEvq",
     "type":"CODE",
     "hide_input_from_viewers":false,
     "hide_output_from_viewers":false,
     "report_properties":{
      
     }
    }
   }
  },
  {
   "cell_type":"code",
   "source":[
    "import matplotlib.pyplot as plt\n",
    "plt.bar(['Clase 0','Clase 1'],[class_0,class_1])\n",
    "plt.show()"
   ],
   "execution_count":7,
   "outputs":[
    {
     "data":{
      "image\/png":"[encoded data removed]"
     },
     "metadata":{
      "image\/png":{
       
      }
     },
     "output_type":"display_data"
    }
   ],
   "metadata":{
    "datalore":{
     "node_id":"weRFjixbPwWdraEKbUJ9Gx",
     "type":"CODE",
     "hide_input_from_viewers":false,
     "hide_output_from_viewers":false,
     "report_properties":{
      
     }
    }
   }
  },
  {
   "cell_type":"markdown",
   "source":[
    "Como podemos observar nuestro data set tiene una mayor proporción para los valores de la clase 0 que para los valores de la clase 1, es decir, nuestro data set no está balanceado. Por lo tanto, consideraremos que nuestro set de test y nuestro set de entrenamiento debe seguir la misma distribución, para conseguir esto podemos utilizar el parámetro `stratify` del métedo train_test_split. Dicho parámetro se encarga de dividir la misma distribución de la variable clase para los set de entrenamiento y de test."
   ],
   "attachments":{
    
   },
   "metadata":{
    "datalore":{
     "node_id":"j1FhJn6r4nlnDozI7xufL0",
     "type":"MD",
     "hide_input_from_viewers":false,
     "hide_output_from_viewers":false,
     "report_properties":{
      
     }
    }
   }
  },
  {
   "cell_type":"code",
   "source":[
    "from sklearn.model_selection import train_test_split\n",
    "train, test = train_test_split(data, test_size =0.3, stratify=data[target])"
   ],
   "execution_count":8,
   "outputs":[
    
   ],
   "metadata":{
    "datalore":{
     "node_id":"9pfR4O2H4ja7vbPQx1LqqY",
     "type":"CODE",
     "hide_input_from_viewers":false,
     "hide_output_from_viewers":false,
     "report_properties":{
      
     }
    }
   }
  },
  {
   "cell_type":"code",
   "source":[
    "_,train_counts = np.unique(train[target], return_counts=True)\n",
    "\n",
    "train_class_0 = train_counts[0]\/(train_counts[0]+train_counts[1])\n",
    "train_class_1 = train_counts[1]\/(train_counts[0]+train_counts[1])\n",
    "\n",
    "print(train_class_0,train_class_1)"
   ],
   "execution_count":9,
   "outputs":[
    {
     "name":"stdout",
     "text":[
      "0.6163723916532905 0.38362760834670945\n"
     ],
     "output_type":"stream"
    }
   ],
   "metadata":{
    "datalore":{
     "node_id":"r34zgYXIueZ4E8STZqdYCY",
     "type":"CODE",
     "hide_input_from_viewers":false,
     "hide_output_from_viewers":false,
     "report_properties":{
      
     }
    }
   }
  },
  {
   "cell_type":"code",
   "source":[
    "_,test_counts = np.unique(test[target], return_counts=True)\n",
    "\n",
    "test_class_0 = test_counts[0]\/(test_counts[0]+test_counts[1])\n",
    "test_class_1 = test_counts[1]\/(test_counts[0]+test_counts[1])\n",
    "\n",
    "print(test_class_0,test_class_1)"
   ],
   "execution_count":10,
   "outputs":[
    {
     "name":"stdout",
     "text":[
      "0.6156716417910447 0.3843283582089552\n"
     ],
     "output_type":"stream"
    }
   ],
   "metadata":{
    "datalore":{
     "node_id":"w2fDenCa8Qiog1O3OLP7Tw",
     "type":"CODE",
     "hide_input_from_viewers":false,
     "hide_output_from_viewers":false,
     "report_properties":{
      
     }
    }
   }
  },
  {
   "cell_type":"markdown",
   "source":[
    "Una vez realizada la división entre nuestra base de datos de entrenamiento y de test ya estamos listos para hacer un análisis exploratorio sobre nuestros datos de entrenamiento. El test solo podrá ser usado al final de la creación de nuestros modelos para la validación. Podemos realizar una pequeña muestra de la base de entrenamiento para comprobar que todo ha sido cargado correctamente."
   ],
   "attachments":{
    
   },
   "metadata":{
    "datalore":{
     "node_id":"Nx9vf1XuqAqGOGDV1Yp8iJ",
     "type":"MD",
     "hide_input_from_viewers":false,
     "hide_output_from_viewers":false,
     "report_properties":{
      
     }
    }
   }
  },
  {
   "cell_type":"code",
   "source":[
    "train"
   ],
   "execution_count":11,
   "outputs":[
    {
     "data":{
      "text\/html":[
       "<div>\n",
       "<style scoped>\n",
       "    .dataframe tbody tr th:only-of-type {\n",
       "        vertical-align: middle;\n",
       "    }\n",
       "\n",
       "    .dataframe tbody tr th {\n",
       "        vertical-align: top;\n",
       "    }\n",
       "\n",
       "    .dataframe thead th {\n",
       "        text-align: right;\n",
       "    }\n",
       "<\/style>\n",
       "<table border=\"1\" class=\"dataframe\">\n",
       "  <thead>\n",
       "    <tr style=\"text-align: right;\">\n",
       "      <th><\/th>\n",
       "      <th>Survived<\/th>\n",
       "      <th>Pclass<\/th>\n",
       "      <th>Name<\/th>\n",
       "      <th>Sex<\/th>\n",
       "      <th>Age<\/th>\n",
       "      <th>SibSp<\/th>\n",
       "      <th>Parch<\/th>\n",
       "      <th>Ticket<\/th>\n",
       "      <th>Fare<\/th>\n",
       "      <th>Cabin<\/th>\n",
       "      <th>Embarked<\/th>\n",
       "    <\/tr>\n",
       "    <tr>\n",
       "      <th>PassengerId<\/th>\n",
       "      <th><\/th>\n",
       "      <th><\/th>\n",
       "      <th><\/th>\n",
       "      <th><\/th>\n",
       "      <th><\/th>\n",
       "      <th><\/th>\n",
       "      <th><\/th>\n",
       "      <th><\/th>\n",
       "      <th><\/th>\n",
       "      <th><\/th>\n",
       "      <th><\/th>\n",
       "    <\/tr>\n",
       "  <\/thead>\n",
       "  <tbody>\n",
       "    <tr>\n",
       "      <th>599<\/th>\n",
       "      <td>0<\/td>\n",
       "      <td>3<\/td>\n",
       "      <td>Boulos, Mr. Hanna<\/td>\n",
       "      <td>male<\/td>\n",
       "      <td>NaN<\/td>\n",
       "      <td>0<\/td>\n",
       "      <td>0<\/td>\n",
       "      <td>2664<\/td>\n",
       "      <td>7.2250<\/td>\n",
       "      <td>NaN<\/td>\n",
       "      <td>C<\/td>\n",
       "    <\/tr>\n",
       "    <tr>\n",
       "      <th>246<\/th>\n",
       "      <td>0<\/td>\n",
       "      <td>1<\/td>\n",
       "      <td>Minahan, Dr. William Edward<\/td>\n",
       "      <td>male<\/td>\n",
       "      <td>44.0<\/td>\n",
       "      <td>2<\/td>\n",
       "      <td>0<\/td>\n",
       "      <td>19928<\/td>\n",
       "      <td>90.0000<\/td>\n",
       "      <td>C78<\/td>\n",
       "      <td>Q<\/td>\n",
       "    <\/tr>\n",
       "    <tr>\n",
       "      <th>887<\/th>\n",
       "      <td>0<\/td>\n",
       "      <td>2<\/td>\n",
       "      <td>Montvila, Rev. Juozas<\/td>\n",
       "      <td>male<\/td>\n",
       "      <td>27.0<\/td>\n",
       "      <td>0<\/td>\n",
       "      <td>0<\/td>\n",
       "      <td>211536<\/td>\n",
       "      <td>13.0000<\/td>\n",
       "      <td>NaN<\/td>\n",
       "      <td>S<\/td>\n",
       "    <\/tr>\n",
       "    <tr>\n",
       "      <th>292<\/th>\n",
       "      <td>1<\/td>\n",
       "      <td>1<\/td>\n",
       "      <td>Bishop, Mrs. Dickinson H (Helen Walton)<\/td>\n",
       "      <td>female<\/td>\n",
       "      <td>19.0<\/td>\n",
       "      <td>1<\/td>\n",
       "      <td>0<\/td>\n",
       "      <td>11967<\/td>\n",
       "      <td>91.0792<\/td>\n",
       "      <td>B49<\/td>\n",
       "      <td>C<\/td>\n",
       "    <\/tr>\n",
       "    <tr>\n",
       "      <th>362<\/th>\n",
       "      <td>0<\/td>\n",
       "      <td>2<\/td>\n",
       "      <td>del Carlo, Mr. Sebastiano<\/td>\n",
       "      <td>male<\/td>\n",
       "      <td>29.0<\/td>\n",
       "      <td>1<\/td>\n",
       "      <td>0<\/td>\n",
       "      <td>SC\/PARIS 2167<\/td>\n",
       "      <td>27.7208<\/td>\n",
       "      <td>NaN<\/td>\n",
       "      <td>C<\/td>\n",
       "    <\/tr>\n",
       "    <tr>\n",
       "      <th>...<\/th>\n",
       "      <td>...<\/td>\n",
       "      <td>...<\/td>\n",
       "      <td>...<\/td>\n",
       "      <td>...<\/td>\n",
       "      <td>...<\/td>\n",
       "      <td>...<\/td>\n",
       "      <td>...<\/td>\n",
       "      <td>...<\/td>\n",
       "      <td>...<\/td>\n",
       "      <td>...<\/td>\n",
       "      <td>...<\/td>\n",
       "    <\/tr>\n",
       "    <tr>\n",
       "      <th>848<\/th>\n",
       "      <td>0<\/td>\n",
       "      <td>3<\/td>\n",
       "      <td>Markoff, Mr. Marin<\/td>\n",
       "      <td>male<\/td>\n",
       "      <td>35.0<\/td>\n",
       "      <td>0<\/td>\n",
       "      <td>0<\/td>\n",
       "      <td>349213<\/td>\n",
       "      <td>7.8958<\/td>\n",
       "      <td>NaN<\/td>\n",
       "      <td>C<\/td>\n",
       "    <\/tr>\n",
       "    <tr>\n",
       "      <th>72<\/th>\n",
       "      <td>0<\/td>\n",
       "      <td>3<\/td>\n",
       "      <td>Goodwin, Miss. Lillian Amy<\/td>\n",
       "      <td>female<\/td>\n",
       "      <td>16.0<\/td>\n",
       "      <td>5<\/td>\n",
       "      <td>2<\/td>\n",
       "      <td>CA 2144<\/td>\n",
       "      <td>46.9000<\/td>\n",
       "      <td>NaN<\/td>\n",
       "      <td>S<\/td>\n",
       "    <\/tr>\n",
       "    <tr>\n",
       "      <th>843<\/th>\n",
       "      <td>1<\/td>\n",
       "      <td>1<\/td>\n",
       "      <td>Serepeca, Miss. Augusta<\/td>\n",
       "      <td>female<\/td>\n",
       "      <td>30.0<\/td>\n",
       "      <td>0<\/td>\n",
       "      <td>0<\/td>\n",
       "      <td>113798<\/td>\n",
       "      <td>31.0000<\/td>\n",
       "      <td>NaN<\/td>\n",
       "      <td>C<\/td>\n",
       "    <\/tr>\n",
       "    <tr>\n",
       "      <th>696<\/th>\n",
       "      <td>0<\/td>\n",
       "      <td>2<\/td>\n",
       "      <td>Chapman, Mr. Charles Henry<\/td>\n",
       "      <td>male<\/td>\n",
       "      <td>52.0<\/td>\n",
       "      <td>0<\/td>\n",
       "      <td>0<\/td>\n",
       "      <td>248731<\/td>\n",
       "      <td>13.5000<\/td>\n",
       "      <td>NaN<\/td>\n",
       "      <td>S<\/td>\n",
       "    <\/tr>\n",
       "    <tr>\n",
       "      <th>805<\/th>\n",
       "      <td>1<\/td>\n",
       "      <td>3<\/td>\n",
       "      <td>Hedman, Mr. Oskar Arvid<\/td>\n",
       "      <td>male<\/td>\n",
       "      <td>27.0<\/td>\n",
       "      <td>0<\/td>\n",
       "      <td>0<\/td>\n",
       "      <td>347089<\/td>\n",
       "      <td>6.9750<\/td>\n",
       "      <td>NaN<\/td>\n",
       "      <td>S<\/td>\n",
       "    <\/tr>\n",
       "  <\/tbody>\n",
       "<\/table>\n",
       "<p>623 rows × 11 columns<\/p>\n",
       "<\/div>"
      ]
     },
     "metadata":{
      
     },
     "output_type":"display_data"
    }
   ],
   "metadata":{
    "datalore":{
     "node_id":"WD7NPy5umepXBUhpGuejA0",
     "type":"CODE",
     "hide_input_from_viewers":false,
     "hide_output_from_viewers":false,
     "report_properties":{
      
     }
    }
   }
  },
  {
   "cell_type":"markdown",
   "source":[
    "# <a id=\"analisis\"><\/a>\n",
    "# <font> 3. Análisis exploratorio de datos<\/font>\n",
    "A continuación, continuaremos con el análisis exploratorio de datos o EDA (_Exploratory Data Analysis_). Para realizar un buen análisis de nuestros datos tendremos que tener muy en cuenta ciertas cosas:\n",
    "* ¿De cuántos datos disponemos?\n",
    "* ¿Cuántos datos se han perdido?\n",
    "* ¿Qué datos son discretos y cuáles son continuos?\n",
    "* ¿La variable clase está balanceada? ¿Qué distribución siguen?\n",
    "* ¿Son todas las variables predictoras importantes? ¿Existe correlación entre variables predictoras?\n",
    "* ¿Existe valores outliers? ¿Hay sesgo en los datos?\n",
    "\n",
    "Una vez presentado las principales cuestiones que nos tenemos que hacer sobre nuestro conjunto de datos podemos empezar. Para ello comenzaremos comprendiendo como está formada nuestra base de datos e identificaremos los tipos que corresponden a las variables predictoras. Comenzamos dividiendo entre variable clase, la y, y las variables predictoras, la X."
   ],
   "attachments":{
    
   },
   "metadata":{
    "datalore":{
     "node_id":"IqXIfblE059i8cddmPRzjZ",
     "type":"MD",
     "hide_input_from_viewers":false,
     "hide_output_from_viewers":false,
     "report_properties":{
      
     }
    }
   }
  },
  {
   "cell_type":"code",
   "source":[
    "arguments = {\"labels\": target, \"axis\": \"columns\"}"
   ],
   "execution_count":12,
   "outputs":[
    
   ],
   "metadata":{
    "datalore":{
     "node_id":"rUebl2PchBe1k4nIuyDAR4",
     "type":"CODE",
     "hide_input_from_viewers":false,
     "hide_output_from_viewers":false,
     "report_properties":{
      
     }
    }
   }
  },
  {
   "cell_type":"code",
   "source":[
    "X = train.drop(**arguments)"
   ],
   "execution_count":13,
   "outputs":[
    
   ],
   "metadata":{
    "datalore":{
     "node_id":"7ECklQ5u94Npi5EQPEBmyj",
     "type":"CODE",
     "hide_input_from_viewers":false,
     "hide_output_from_viewers":false,
     "report_properties":{
      
     }
    }
   }
  },
  {
   "cell_type":"code",
   "source":[
    "y = train[target]"
   ],
   "execution_count":14,
   "outputs":[
    
   ],
   "metadata":{
    "datalore":{
     "node_id":"haZqQiToiG5T2o7Yo9WzWM",
     "type":"CODE",
     "hide_input_from_viewers":false,
     "hide_output_from_viewers":false,
     "report_properties":{
      
     }
    }
   }
  },
  {
   "cell_type":"markdown",
   "source":[
    "Primero de todo analizaremos cada variable predictora, qué tipo es y que datos la conforman, así diferenciaremos entre las variables discretas y las variables continuas. Además, podemos determinar si existen variables de las cuales podemos prescindir o no. Tenemos las siguientes variables predictoras:\n",
    " * __Pclass__: La variable Pclass diferencia entre las distintas clases de billete que hay posibles, se encuentran en el rango [1,3]. Está variable es una aproximación del nivel socio-económico de cada pasajero. Además, la podemos considerar una variable discreta dado que bien es 1: Upper, 2: Middle, o bien es 3: Lower.\n",
    "  \n",
    " * __Name__: Indica el nombre de cada pasajero. Es una variable que no aportada ninguna información respecto al resto, es como un identificador. Por lo tanto, podemos prescindir de dicha variable modificando nuestro train set para ser más eficiente en espacio.\n",
    " * __Sex__: Indica si el pasajero es hombre o mujer. Se trata de una variable discreta.\n",
    " * __Age__: Indica la edad del pasajero, la cuál está representada de la siguiente forma: si se trata de un bebe con menos de un año se representa con un número comprendido entre 0 y 1; a partir de un año se representa una estimación de edad que bien puede ser un número entero o bien un número y medio, de tal forma que el rango de representación es: [1, 1.5, 2, 2.5, ...].\n",
    " * __SibSp__: Indica el número de hermanos, hermanastros, marido o mujer que viajan a bordo relacionados con dicho pasajero.\n",
    " * __Parch__: Indica el número de padres, hijos o hijastros que viajan a bordo relacionados con dicho pasajero.\n",
    " * __Ticket__: Representa el identificador para el billete. Se trata de valores únicos por lo tanto también podemos prescindir de dicha variable dado que no nos aporta información al problema.\n",
    " * __Fare__: Indica la tarifa de pasajero, está representado mediante un valor númerico.\n",
    " * __Cabin__: Indicica en que cabina se encontraba el pasajero. \n",
    " * __Embarked__: Representa desde que puerto se embarco, se trata de una variable discreta en la que encontramos tres posibles valores: C = Cherbourg, Q = Queenstown y S = Southampton.\n",
    "\n",
    "Una vez analizado que variables componen nuesta base de datos podemos hacer uso del método .info() para sacar más información como el tipo de datos en el que esta almacenado cada variable"
   ],
   "attachments":{
    
   },
   "metadata":{
    "datalore":{
     "node_id":"4Amo5rvF0bmYrg52HnBKwk",
     "type":"MD",
     "hide_input_from_viewers":false,
     "hide_output_from_viewers":false,
     "report_properties":{
      
     }
    }
   }
  },
  {
   "cell_type":"code",
   "source":[
    "X.info()"
   ],
   "execution_count":15,
   "outputs":[
    {
     "name":"stdout",
     "text":[
      "<class 'pandas.core.frame.DataFrame'>\n",
      "Int64Index: 623 entries, 599 to 805\n",
      "Data columns (total 10 columns):\n",
      " #   Column    Non-Null Count  Dtype  \n",
      "---  ------    --------------  -----  \n",
      " 0   Pclass    623 non-null    int64  \n",
      " 1   Name      623 non-null    object \n",
      " 2   Sex       623 non-null    object \n",
      " 3   Age       496 non-null    float64\n",
      " 4   SibSp     623 non-null    int64  \n",
      " 5   Parch     623 non-null    int64  \n",
      " 6   Ticket    623 non-null    object \n",
      " 7   Fare      623 non-null    float64\n",
      " 8   Cabin     136 non-null    object \n",
      " 9   Embarked  621 non-null    object \n",
      "dtypes: float64(2), int64(3), object(5)\n",
      "memory usage: 53.5+ KB\n"
     ],
     "output_type":"stream"
    }
   ],
   "metadata":{
    "datalore":{
     "node_id":"Eef5dfYS8mhSAsiNs68sRT",
     "type":"CODE",
     "hide_input_from_viewers":false,
     "hide_output_from_viewers":false,
     "report_properties":{
      
     }
    }
   }
  },
  {
   "cell_type":"markdown",
   "source":[
    "Si analizamos la información que nos muestra X.info() podemos observar como existen valores null en nuestro set de entrenamiento, encontramos las variables Age, Cabin y Embarked. Para las variables Age y Embarked se puede realizar un tratamiento para estimar los valores posibles para las instancias perdidas. Pero en el caso de la variable Cabin encontramos muchas instancias perdidas, un 77% de los datos son null, por lo tanto, tendremos que prescindir de dicha variable predictora."
   ],
   "attachments":{
    
   },
   "metadata":{
    "datalore":{
     "node_id":"0XnrwzzvUwddF63mbrA722",
     "type":"MD",
     "hide_input_from_viewers":false,
     "hide_output_from_viewers":false,
     "report_properties":{
      
     }
    }
   }
  },
  {
   "cell_type":"markdown",
   "source":[
    "### Análisis univariado\n",
    "Para realizar un estudio un poco más específico de cada varaible que compone nuestra base de datos, empezaremos a estudiar cada variable de forma individualizada y la distribucion seguida por cada una de ellas.\n",
    "\n",
    "* Para ello, comenzamos con __Name__, que, a priori, sabemos que aporta nula información. Al realizar el estudio se tiene que cada instancia es única, es decir, no existen dos personas con el mismo nombre en nuestro conjunto de entrenamiento. Esto lo demostramos de la siguiente manera:"
   ],
   "attachments":{
    
   },
   "metadata":{
    "datalore":{
     "node_id":"pS7t2xUwU9xVsEWoY5U9gj",
     "type":"MD",
     "hide_input_from_viewers":false,
     "hide_output_from_viewers":false,
     "report_properties":{
      
     }
    }
   }
  },
  {
   "cell_type":"code",
   "source":[
    "(elem,veces)=np.unique(X[\"Name\"],return_counts=True)\n",
    "sinRep=sum(i for i in veces if i==1)\n",
    "dosOMas=sum(i for i in veces if i>1)\n",
    "print(f\"Hay un total de {sinRep} nombres unicos\")\n",
    "print(f\"Hay un total de {dosOMas} nombres repetidos\")"
   ],
   "execution_count":16,
   "outputs":[
    {
     "name":"stdout",
     "text":[
      "Hay un total de 623 nombres unicos\n",
      "Hay un total de 0 nombres repetidos\n"
     ],
     "output_type":"stream"
    }
   ],
   "metadata":{
    "datalore":{
     "node_id":"EiUMgoJNtDsDLpqCN95ev1",
     "type":"CODE",
     "hide_input_from_viewers":false,
     "hide_output_from_viewers":false,
     "report_properties":{
      
     }
    }
   }
  },
  {
   "cell_type":"markdown",
   "source":[
    "Es por ello que podemos decir que esta variable no aporta nada a nuestro conjunto de entrenamiento de cara a hacer una predicción. Para este caso, dado que solo hay una isntancia con cada nombre, la distribución de probablidad de cada uno de estos para nuestro conjunto de entrenamiento será de 1\/(numero_instancias)= 1\/623"
   ],
   "attachments":{
    
   },
   "metadata":{
    "datalore":{
     "node_id":"RRKifQ4YyVYN1R89EgeQwa",
     "type":"MD",
     "hide_input_from_viewers":false,
     "hide_output_from_viewers":false,
     "report_properties":{
      
     }
    }
   }
  },
  {
   "cell_type":"markdown",
   "source":[
    "* Para la variable __Sex__ podemos decir que estamos ante una varaible discreta, con dos valores posibles, male y female: \n",
    "Si estudiamos la distribucion de estos dos, observamos que la mayoría de las instancias tienen como valor male, estando esta presente en un 65% del total de las instancias, mientras que female es minoritaria, estando presente en un 35%. Como se ha visto anteriomente, no se dan instancias con valores nulos para esta variable."
   ],
   "attachments":{
    
   },
   "metadata":{
    "datalore":{
     "node_id":"dA6XQBsPl3h1r0hd0ZZhDY",
     "type":"MD",
     "hide_input_from_viewers":false,
     "hide_output_from_viewers":false,
     "report_properties":{
      
     }
    }
   }
  },
  {
   "cell_type":"code",
   "source":[
    "sex,nums =np.unique(X[\"Sex\"], return_counts=True) \n",
    "print(sex,nums)\n",
    "female_prob=nums[0]\/sum(nums)\n",
    "male_prob=nums[1]\/sum(nums)\n",
    "print(f\"La prob de hombre es de {male_prob}\")\n",
    "print(f\"La prob de mujer es de {female_prob}\")\n",
    "\n",
    "import matplotlib.pyplot as plt\n",
    "\n",
    "plt.pie(nums, labels=sex)\n",
    "plt.show()"
   ],
   "execution_count":17,
   "outputs":[
    {
     "name":"stdout",
     "text":[
      "['female' 'male'] [219 404]\n",
      "La prob de hombre es de 0.6484751203852327\n",
      "La prob de mujer es de 0.35152487961476725\n"
     ],
     "output_type":"stream"
    },
    {
     "data":{
      "image\/png":"[encoded data removed]"
     },
     "metadata":{
      "image\/png":{
       
      }
     },
     "output_type":"display_data"
    }
   ],
   "metadata":{
    "datalore":{
     "node_id":"FJau94ax86Ut7DQgLd3lsg",
     "type":"CODE",
     "hide_input_from_viewers":false,
     "hide_output_from_viewers":false,
     "report_properties":{
      
     }
    }
   }
  },
  {
   "cell_type":"markdown",
   "source":[
    "* Para __Age__, al tratarse de una variable continua, donde pueden aparecer valores de tipo no enteros, trataremos de estudiar que distribución sigue. El estudio de la distribución nos indica que, para nuestro conjunto de entrenamiento, la media de esdad es cercana a los 30 años, con una desviación tipica cercana a los 15. Además, el rango de edades abarca entre los 0.67 años y los 80, siendo 28 años la mediana. La distribución, al represenatarla de forma gráfica, observamos que esta se podría tratar como una dsitribución normal, pero con valor algo disparado en el primer bin."
   ],
   "attachments":{
    
   },
   "metadata":{
    "datalore":{
     "node_id":"EJQhkvgLYJELpXu1ofFPOA",
     "type":"MD",
     "hide_input_from_viewers":false,
     "hide_output_from_viewers":false,
     "report_properties":{
      
     }
    }
   }
  },
  {
   "cell_type":"code",
   "source":[
    "print(X[\"Age\"].describe())\n",
    "\n",
    "\n",
    "plt.hist(X[\"Age\"],bins=20) \n",
    "plt.show()"
   ],
   "execution_count":18,
   "outputs":[
    {
     "name":"stdout",
     "text":[
      "count    496.000000\n",
      "mean      29.879879\n",
      "std       14.483858\n",
      "min        0.420000\n",
      "25%       21.000000\n",
      "50%       28.000000\n",
      "75%       38.250000\n",
      "max       80.000000\n",
      "Name: Age, dtype: float64\n"
     ],
     "output_type":"stream"
    },
    {
     "data":{
      "image\/png":"[encoded data removed]"
     },
     "metadata":{
      "image\/png":{
       
      }
     },
     "output_type":"display_data"
    }
   ],
   "metadata":{
    "datalore":{
     "node_id":"KhIJF9Atcow0BlRMahZPNW",
     "type":"CODE",
     "hide_input_from_viewers":false,
     "hide_output_from_viewers":false,
     "report_properties":{
      
     }
    }
   }
  },
  {
   "cell_type":"markdown",
   "source":[
    "* __SibSP__ es una variable de tipo entera donde se indica el numero de hermanos, esposas o maridos que tiene a bordo  un determinado pasajero. Si realizamos un estudio de esta, obtenemos que más de la mitad de pasajeros no tienen a ninguno a bordo, al ser la mediana 0. La media es de aproximadamente 0.5  a bordo, y existe al menos una instancia que tiene hasta 8 hermanos y\/o marido o esposa a bordo. Representandolo graficamente, observamos ques esta variable sigue una distribución concentrada a la izquierda, que va decreciendo de forma muy rapida, existiendo muy pocas istancias del problema con esta varaible con valor mayor a 3 para nuestro conjunto de entrenamiento."
   ],
   "attachments":{
    
   },
   "metadata":{
    "datalore":{
     "node_id":"wbauExg4jFV6xJtJTt42bg",
     "type":"MD",
     "hide_input_from_viewers":false,
     "hide_output_from_viewers":false,
     "report_properties":{
      
     }
    }
   }
  },
  {
   "cell_type":"code",
   "source":[
    "print(X[\"SibSp\"].describe())\n",
    "\n",
    "plt.hist(X[\"SibSp\"]) \n",
    "plt.show()\n",
    "\n",
    "sib,num=np.unique(X[\"SibSp\"],return_counts=True)\n",
    "\n",
    "print(f\"El porcentaje de pasajeros sin hermanos ni esposa a bordo es de {num[0]\/sum(num)}\")"
   ],
   "execution_count":19,
   "outputs":[
    {
     "name":"stdout",
     "text":[
      "count    623.000000\n",
      "mean       0.513644\n",
      "std        1.065110\n",
      "min        0.000000\n",
      "25%        0.000000\n",
      "50%        0.000000\n",
      "75%        1.000000\n",
      "max        8.000000\n",
      "Name: SibSp, dtype: float64\n",
      "El porcentaje de pasajeros sin hermanos ni esposa a bordo es de 0.6789727126805778\n"
     ],
     "output_type":"stream"
    },
    {
     "data":{
      "image\/png":"[encoded data removed]"
     },
     "metadata":{
      "image\/png":{
       
      }
     },
     "output_type":"display_data"
    }
   ],
   "metadata":{
    "datalore":{
     "node_id":"M7dqTQnRsMLr8cRUd7R3F0",
     "type":"CODE",
     "hide_input_from_viewers":false,
     "hide_output_from_viewers":false,
     "report_properties":{
      
     }
    }
   }
  },
  {
   "cell_type":"markdown",
   "source":[
    "* En cuanto a la variable __ParCh__, que indica el numero de padres e hijos\/hijastros a bordo, podemos observar que se trata de una variable de tipo entera, donde, de nuevo, la mayoria de instancias tienen como valor 0. En este caso, para nuestro conjunto de entrenamiento el maximo tiene como valor 5, y la media es ligeramente inferior que para SibSp. La distribución que sigue, de nuevo, al igual que sucede con la variable SibSp, esta fuertemente concentrada a la izquierda, decreciendo de forma muy significativa para valores del eje de abscisas mayores."
   ],
   "attachments":{
    
   },
   "metadata":{
    "datalore":{
     "node_id":"JpAXriy60OeVTYJK8kWHht",
     "type":"MD",
     "hide_input_from_viewers":false,
     "hide_output_from_viewers":false,
     "report_properties":{
      
     }
    }
   }
  },
  {
   "cell_type":"code",
   "source":[
    "print(X[\"Parch\"].describe())\n",
    "plt.hist(X[\"Parch\"]) \n",
    "plt.show()\n",
    "\n",
    "sib,num=np.unique(X[\"Parch\"],return_counts=True)\n",
    "print(sib)\n",
    "print(num)"
   ],
   "execution_count":20,
   "outputs":[
    {
     "name":"stdout",
     "text":[
      "count    623.000000\n",
      "mean       0.365971\n",
      "std        0.804488\n",
      "min        0.000000\n",
      "25%        0.000000\n",
      "50%        0.000000\n",
      "75%        0.000000\n",
      "max        6.000000\n",
      "Name: Parch, dtype: float64\n",
      "[0 1 2 3 4 5 6]\n",
      "[483  75  54   4   3   3   1]\n"
     ],
     "output_type":"stream"
    },
    {
     "data":{
      "image\/png":"[encoded data removed]"
     },
     "metadata":{
      "image\/png":{
       
      }
     },
     "output_type":"display_data"
    }
   ],
   "metadata":{
    "datalore":{
     "node_id":"qQ9xuFVIZXBOXjTz6bgt7K",
     "type":"CODE",
     "hide_input_from_viewers":false,
     "hide_output_from_viewers":false,
     "report_properties":{
      
     }
    }
   }
  },
  {
   "cell_type":"markdown",
   "source":[
    "* Para la variable __Ticket__, si realizamos un estudio más completo de esta podemos observar que, en nuestro conjunto de entrenamiento aparecen hasta un total de 500 tickets distintos, por lo tanto, dado que no hay valores nulos en ninguna de las instancias de nuestro conjunto de entrenamiento para esta variable, hay un total de 120 instancias con valores ya presentes en el conjunto de entrenamiento. A priori podemos intuir qeu esto se debe a que los miembros de una familia para, por ejemplo los niños pequeños, compartan el numero de ticket con el de sus padres. \n",
    "\n",
    "    Al existir tantos valores unicos de esta variable, funcionando casi como un identificador, carece claramente de potencia discriminatoria de cara a la elaboración de nuestros clasificadores, y, por lo tanto, la eliminaremos junto con la variable Name en el tratamiento de los datos."
   ],
   "attachments":{
    
   },
   "metadata":{
    "datalore":{
     "node_id":"QDAlXaV8gUellTCIsQoDFK",
     "type":"MD",
     "hide_input_from_viewers":false,
     "hide_output_from_viewers":false,
     "report_properties":{
      
     }
    }
   }
  },
  {
   "cell_type":"code",
   "source":[
    "print(X[\"Ticket\"].describe())\n",
    "ticket,cantidad = np.unique(X[\"Ticket\"], return_counts=True)\n",
    "\n",
    "print(\"Un ejemplo de el valor de Ticket para 5 instancias seria: \",np.random.choice(ticket,size=5))\n",
    "\n",
    "masDe3=[1 for i in cantidad if(i>3)]\n",
    "print(f\"\\nHay un total de {sum(masDe3)} tickets que se repiten en mas de 3 pasajeros para el conjunto de entrenamiento\")"
   ],
   "execution_count":21,
   "outputs":[
    {
     "name":"stdout",
     "text":[
      "count         623\n",
      "unique        505\n",
      "top       CA 2144\n",
      "freq            5\n",
      "Name: Ticket, dtype: object\n",
      "Un ejemplo de el valor de Ticket para 5 instancias seria:  ['345765' '363294' '345774' 'A\/5 21171' 'SC\/AH 29037']\n",
      "\n",
      "Hay un total de 10 tickets que se repiten en mas de 3 pasajeros para el conjunto de entrenamiento\n"
     ],
     "output_type":"stream"
    }
   ],
   "metadata":{
    "datalore":{
     "node_id":"XS0eUDMJSGtczgsZMc7EZF",
     "type":"CODE",
     "hide_input_from_viewers":false,
     "hide_output_from_viewers":false,
     "report_properties":{
      
     }
    }
   }
  },
  {
   "cell_type":"markdown",
   "source":[
    "* __Fare__: es una varaible de tipo float que indica el precio del billete pagado. Por ello es podemos decir que, dado que como puede tomar cualquier valor numérico, estamos ante una variable de tipo contínua. Como hemos visto anteriormente, esta no contiene valores nulos en ninguna de las instancias de nuestro conjunto de entrenamiento. Al representarla gráficamente, podemos destacar que esta sigue una distribución claramente concentrada a la izquierda, presentado valores extremos aislados hacia la derecha, que indican un coste mayor del billete. Podemos ver que la mediana es cercana a 13 mientras que la media es casi el triple que esta, al estar muy afectada por los valores extremos. "
   ],
   "attachments":{
    
   },
   "metadata":{
    "datalore":{
     "node_id":"6lVvPRTJ1e7v2cpZwtr8TW",
     "type":"MD",
     "hide_input_from_viewers":false,
     "hide_output_from_viewers":false,
     "report_properties":{
      
     }
    }
   }
  },
  {
   "cell_type":"code",
   "source":[
    "print(X[\"Fare\"].describe())\n",
    "\n",
    "plt.hist(X[\"Fare\"]) \n",
    "plt.show()"
   ],
   "execution_count":22,
   "outputs":[
    {
     "name":"stdout",
     "text":[
      "count    623.000000\n",
      "mean      30.974417\n",
      "std       48.418353\n",
      "min        0.000000\n",
      "25%        7.925000\n",
      "50%       13.500000\n",
      "75%       30.035400\n",
      "max      512.329200\n",
      "Name: Fare, dtype: float64\n"
     ],
     "output_type":"stream"
    },
    {
     "data":{
      "image\/png":"[encoded data removed]"
     },
     "metadata":{
      "image\/png":{
       
      }
     },
     "output_type":"display_data"
    }
   ],
   "metadata":{
    "datalore":{
     "node_id":"Ar0CCquhdIZHZWQXcUL6PG",
     "type":"CODE",
     "hide_input_from_viewers":false,
     "hide_output_from_viewers":false,
     "report_properties":{
      
     }
    }
   }
  },
  {
   "cell_type":"markdown",
   "source":[
    "* La variable Cabin almacena cadenas de carácteres, donde se indica la cabina que hace uso un pasajero. Como hemos visto anteriormente, esta variable contiene valor nulo para la mayoria de las instancias de nuestro conjunto de entrenamiento. Esto, sumado con el escaso poder discriminador que tiene, causado por la gran cantidad de valores que puede tomar esta varaible categórica, harán que, de cara al preprocesamiento de nuestros datos prescindamos de esta. En las instancias que si que toma valores no nulos, destacamos que para 87 de estas tienen un valor que no se repite más en el conjunto de entrenamiento, 24 se repiten solo una vez y unicamente 5 aparecen en mas de una instancia en nuestro conjunto de entrenamiento."
   ],
   "attachments":{
    
   },
   "metadata":{
    "datalore":{
     "node_id":"EXpkkL736daNjWYBlKzolq",
     "type":"MD",
     "hide_input_from_viewers":false,
     "hide_output_from_viewers":false,
     "report_properties":{
      
     }
    }
   }
  },
  {
   "cell_type":"code",
   "source":[
    "print(X[\"Cabin\"].describe())\n",
    "\n",
    "cabinas, cant = np.unique(X[\"Cabin\"].astype(str), return_counts=True)\n",
    "unaVez=[1 for i in cant if(i==1)]\n",
    "dosVeces=[1 for i in cant if(i==2)]\n",
    "masDosVeces=[1 for i in cant if(i>2)]\n",
    "print(f\"El numero de instancias cuyo valor de Cabin no se repite en el conjunto de entrenamiento es de {sum(unaVez)}\")\n",
    "print(f\"El numero de instancias cuyo valor de Cabin se repite en el conjunto de entrenamiento otra vez es de {sum(dosVeces)}\")\n",
    "print(f\"El numero de instancias cuyo valor de Cabin se repite dos veces en el conjont de entrenamiento es de {sum(masDosVeces)-1}\") #Eliminamos la de unique"
   ],
   "execution_count":23,
   "outputs":[
    {
     "name":"stdout",
     "text":[
      "count     136\n",
      "unique    107\n",
      "top        G6\n",
      "freq        4\n",
      "Name: Cabin, dtype: object\n",
      "El numero de instancias cuyo valor de Cabin no se repite en el conjunto de entrenamiento es de 82\n",
      "El numero de instancias cuyo valor de Cabin se repite en el conjunto de entrenamiento otra vez es de 23\n",
      "El numero de instancias cuyo valor de Cabin se repite dos veces en el conjont de entrenamiento es de 2\n"
     ],
     "output_type":"stream"
    }
   ],
   "metadata":{
    "datalore":{
     "node_id":"Y5kr6f8hF8HM4EouUgTupr",
     "type":"CODE",
     "hide_input_from_viewers":false,
     "hide_output_from_viewers":false,
     "report_properties":{
      
     }
    }
   }
  },
  {
   "cell_type":"markdown",
   "source":[
    "* Por último, la variable embarked es de tipo discreta, al tomar valores de un conjunto finito. Cabe destacar que en nuestro conjunto de entrenamiento podemos observar que solo hay 2 instancias que almacenan valores nulos en nuestro conjunto de entrenamiento, algo que tendremos que tener en cuenta en el tratamiento postorior de los mismos. Para este atributo, dentro de nuestro conjunto de entrenamiento encontramos 3 valores distintos, excluyendo los nulos. Estos son 'S', que aparece en un 72% de las instancias, seguido de \"C\", con un 18%,y por ultimo \"Q\" que aparece en un 7%. Podemos ver esto de forma más visual con un diagrama de sectores:\n",
    "        "
   ],
   "attachments":{
    
   },
   "metadata":{
    "datalore":{
     "node_id":"FSeX1LGSQ0eEsy72f8XDNQ",
     "type":"MD",
     "hide_input_from_viewers":false,
     "hide_output_from_viewers":false,
     "report_properties":{
      
     }
    }
   }
  },
  {
   "cell_type":"code",
   "source":[
    "print(X[\"Embarked\"].describe())\n",
    "\n",
    "clases,cantidad = np.unique(X[\"Embarked\"].astype(str),return_counts=True)\n",
    "\n",
    "plt.pie(cantidad, labels=clases)\n",
    "plt.show()\n",
    "\n",
    "print(clases)\n",
    "print(cantidad)\n",
    "print(f\"La proporcion de clases C es de {cantidad[0]\/sum(cantidad)}\")\n",
    "print(f\"La proporcion de clases Q es de {cantidad[1]\/sum(cantidad)}\")\n",
    "print(f\"La proporcion de clases S es de {cantidad[2]\/sum(cantidad)}\")"
   ],
   "execution_count":24,
   "outputs":[
    {
     "name":"stdout",
     "text":[
      "count     621\n",
      "unique      3\n",
      "top         S\n",
      "freq      454\n",
      "Name: Embarked, dtype: object\n",
      "['C' 'Q' 'S' 'nan']\n",
      "[113  54 454   2]\n",
      "La proporcion de clases C es de 0.18138041733547353\n",
      "La proporcion de clases Q es de 0.08667736757624397\n",
      "La proporcion de clases S es de 0.7287319422150883\n"
     ],
     "output_type":"stream"
    },
    {
     "data":{
      "image\/png":"[encoded data removed]"
     },
     "metadata":{
      "image\/png":{
       
      }
     },
     "output_type":"display_data"
    }
   ],
   "metadata":{
    "datalore":{
     "node_id":"UgyYlnafApfGA5bL4cW5YA",
     "type":"CODE",
     "hide_input_from_viewers":false,
     "hide_output_from_viewers":false,
     "report_properties":{
      
     }
    }
   }
  },
  {
   "cell_type":"markdown",
   "source":[
    "### Análisis multivariado\n",
    "A continuación, importaremos las librería `seaborn` para visualizar gráficamente las correlaciones entre las distintas variables predictoras. Analizando así si podemos aprovechar varias variables como una única variable conjunta."
   ],
   "attachments":{
    
   },
   "metadata":{
    "datalore":{
     "node_id":"WjGHIsbtX8QrThcJjZ9sfh",
     "type":"MD",
     "hide_input_from_viewers":false,
     "hide_output_from_viewers":false,
     "report_properties":{
      
     }
    }
   }
  },
  {
   "cell_type":"code",
   "source":[
    "import seaborn as sns"
   ],
   "execution_count":25,
   "outputs":[
    
   ],
   "metadata":{
    "datalore":{
     "node_id":"GP3PSieedELuVxpt49BSgQ",
     "type":"CODE",
     "hide_input_from_viewers":false,
     "hide_output_from_viewers":false,
     "report_properties":{
      
     }
    }
   }
  },
  {
   "cell_type":"code",
   "source":[
    "corr = X.corr()\n",
    "sns.clustermap(corr)"
   ],
   "execution_count":26,
   "outputs":[
    {
     "data":{
      "text\/plain":[
       "<seaborn.matrix.ClusterGrid at 0x7f1649773c70>"
      ]
     },
     "metadata":{
      
     },
     "output_type":"display_data"
    },
    {
     "data":{
      "image\/png":"[encoded data removed]"
     },
     "metadata":{
      "image\/png":{
       
      }
     },
     "output_type":"display_data"
    }
   ],
   "metadata":{
    "datalore":{
     "node_id":"nR7Qq9fBKMvE85BiMR5twB",
     "type":"CODE",
     "hide_input_from_viewers":false,
     "hide_output_from_viewers":false,
     "report_properties":{
      
     }
    }
   }
  },
  {
   "cell_type":"markdown",
   "source":[
    "Si observamos el mapa de calor resultante de las variables predictoras podemos concluir que casi todas las variables aportan suficiente información por si solas, exceptuando el caso de las variables SibSp y Parch que tienen una mayor correlación. Esto último se debe a que la variable SibSp se refiere a el número de hermanos o parejas a bordo del Titanic, y la variable Parch se refiere al número de familiares a bordo del Titanic."
   ],
   "attachments":{
    
   },
   "metadata":{
    "datalore":{
     "node_id":"sLJBtO6L7KcQDjR5M5rdhc",
     "type":"MD",
     "hide_input_from_viewers":false,
     "hide_output_from_viewers":false,
     "report_properties":{
      
     }
    }
   }
  },
  {
   "cell_type":"code",
   "source":[
    "X[\"SibSp\"].corr(X[\"Parch\"])"
   ],
   "execution_count":27,
   "outputs":[
    {
     "data":{
      "text\/plain":[
       "0.4182007509570645"
      ]
     },
     "metadata":{
      
     },
     "output_type":"display_data"
    }
   ],
   "metadata":{
    "datalore":{
     "node_id":"ueqiK6WpJunHwJsgTwXGLR",
     "type":"CODE",
     "hide_input_from_viewers":false,
     "hide_output_from_viewers":false,
     "report_properties":{
      
     }
    }
   }
  },
  {
   "cell_type":"markdown",
   "source":[
    "Si observamos la correlación entre las dos variables mencionadas anteriormente vemos que se trata de un 0.4, un valor que no es suficientemente significativo como para prescindir de ambas variables y juntarlas en una única.\n",
    "\n",
    "Por lo tanto, podemos concluir nuestro análisis con el siguiente tratamiento a realizar:\n",
    "* Encontramos variables predictoras que no aportan información y deben ser eliminadas. Dichas variables son: Name y Ticket.\n",
    "* Encontramos variables predictoras que contienen valores null, en el caso de la variable Cabin son demasiados y debe ser eliminado. Pero en el caso de las variables Age y Embarked debe de ser tratado."
   ],
   "attachments":{
    
   },
   "metadata":{
    "datalore":{
     "node_id":"JthxIz3e9nvKuYQ6ngj0Df",
     "type":"MD",
     "hide_input_from_viewers":false,
     "hide_output_from_viewers":false,
     "report_properties":{
      
     }
    }
   }
  },
  {
   "cell_type":"markdown",
   "source":[
    "# <a id=\"preprocesamiento\"><\/a>\n",
    "# <font> 4. Preprocesamiento de datos<\/font>\n",
    "El preprocesamiento de datos a realizar será el comentado anteriormente, tendremos que eliminar las variables Name, Ticket y Cabin. Además, deberemos tratar los valores perdidos en las variables predictoras Age y Embarked. Con el objetivo de crear un preprocesamiento reproducible tanto en el entrenamiento como en el test será necesario utilizar un pipeline. Una vez diseñado el pipeline se puede aplicar a ambos conjuntos.\n",
    "\n",
    "Para empezar a diseñar dicho pipeline tendremos que comenzar creando los transformadores para cada columna con `make_column_transformer`."
   ],
   "attachments":{
    
   },
   "metadata":{
    "datalore":{
     "node_id":"4n4cAe648bQPfMmGBeCEQm",
     "type":"MD",
     "hide_input_from_viewers":false,
     "hide_output_from_viewers":false,
     "report_properties":{
      
     }
    }
   }
  },
  {
   "cell_type":"code",
   "source":[
    "from sklearn.compose import make_column_transformer"
   ],
   "execution_count":28,
   "outputs":[
    
   ],
   "metadata":{
    "datalore":{
     "node_id":"zCpAkUow8JBdWNb3N87qNS",
     "type":"CODE",
     "hide_input_from_viewers":false,
     "hide_output_from_viewers":false,
     "report_properties":{
      
     }
    }
   }
  },
  {
   "cell_type":"markdown",
   "source":[
    "Creamos un imputador de los valores perdidos, para las variables númericas utilizaremos la mediana y para las variables categóricas utilizaremos el valor mayoritario que toma la variable."
   ],
   "attachments":{
    
   },
   "metadata":{
    "datalore":{
     "node_id":"yR3nyBx1113LzI2HtoSQNj",
     "type":"MD",
     "hide_input_from_viewers":false,
     "hide_output_from_viewers":false,
     "report_properties":{
      
     }
    }
   }
  },
  {
   "cell_type":"code",
   "source":[
    "from sklearn.impute import SimpleImputer"
   ],
   "execution_count":29,
   "outputs":[
    
   ],
   "metadata":{
    "datalore":{
     "node_id":"GQtpEn88jbknSOaJJZTSxV",
     "type":"CODE",
     "hide_input_from_viewers":false,
     "hide_output_from_viewers":false,
     "report_properties":{
      
     }
    }
   }
  },
  {
   "cell_type":"code",
   "source":[
    "imputer = make_column_transformer(\n",
    "    (SimpleImputer(strategy=\"median\"), [\"Age\", \"Fare\"]),\n",
    "    (SimpleImputer(strategy=\"most_frequent\"), [\"Embarked\", \"Sex\", \"Pclass\"])\n",
    ")"
   ],
   "execution_count":30,
   "outputs":[
    
   ],
   "metadata":{
    "datalore":{
     "node_id":"wbS5mnHzaQGZqCnnKPxcs3",
     "type":"CODE",
     "hide_input_from_viewers":false,
     "hide_output_from_viewers":false,
     "report_properties":{
      
     }
    }
   }
  },
  {
   "cell_type":"code",
   "source":[
    "imputer.get_feature_names"
   ],
   "execution_count":31,
   "outputs":[
    {
     "data":{
      "text\/plain":[
       "<bound method ColumnTransformer.get_feature_names of ColumnTransformer(transformers=[('simpleimputer-1',\n",
       "                                 SimpleImputer(strategy='median'),\n",
       "                                 ['Age', 'Fare']),\n",
       "                                ('simpleimputer-2',\n",
       "                                 SimpleImputer(strategy='most_frequent'),\n",
       "                                 ['Embarked', 'Sex', 'Pclass'])])>"
      ]
     },
     "metadata":{
      
     },
     "output_type":"display_data"
    }
   ],
   "metadata":{
    "datalore":{
     "node_id":"jDkvrkTZCvviPr0Pmy1RlN",
     "type":"CODE",
     "hide_input_from_viewers":false,
     "hide_output_from_viewers":false,
     "report_properties":{
      
     }
    }
   }
  },
  {
   "cell_type":"markdown",
   "source":[
    "Crearemos también un normalizador encargado de transformar las variables Age y Fare a escala de 0 y 1."
   ],
   "attachments":{
    
   },
   "metadata":{
    "datalore":{
     "node_id":"LfXW4W0O5TTbuL8GelIGN7",
     "type":"MD",
     "hide_input_from_viewers":false,
     "hide_output_from_viewers":false,
     "report_properties":{
      
     }
    }
   }
  },
  {
   "cell_type":"code",
   "source":[
    "from sklearn.preprocessing import MinMaxScaler"
   ],
   "execution_count":32,
   "outputs":[
    
   ],
   "metadata":{
    "datalore":{
     "node_id":"Us0ELLBFARsig4kLexSJZO",
     "type":"CODE",
     "hide_input_from_viewers":false,
     "hide_output_from_viewers":false,
     "report_properties":{
      
     }
    }
   }
  },
  {
   "cell_type":"code",
   "source":[
    "normalizer = make_column_transformer(\n",
    "    (MinMaxScaler(feature_range=(0, 1)), [\"Age\",\"Fare\"]),\n",
    "    remainder=\"passthrough\"\n",
    ")"
   ],
   "execution_count":33,
   "outputs":[
    
   ],
   "metadata":{
    "datalore":{
     "node_id":"u5qG0Nrw4lcwzQeu6uc4OP",
     "type":"CODE",
     "hide_input_from_viewers":false,
     "hide_output_from_viewers":false,
     "report_properties":{
      
     }
    }
   }
  },
  {
   "cell_type":"markdown",
   "source":[
    "Además, crearemos un encoder en el que se utilizará OneHotEncoder para transformar las variables categóricas a valores númericos representando cada uno de ellos una categoría de la variable."
   ],
   "attachments":{
    
   },
   "metadata":{
    "datalore":{
     "node_id":"Vqsdrpe90xgHzYtUuGuwFe",
     "type":"MD",
     "hide_input_from_viewers":false,
     "hide_output_from_viewers":false,
     "report_properties":{
      
     }
    }
   }
  },
  {
   "cell_type":"code",
   "source":[
    "from sklearn.preprocessing import OneHotEncoder"
   ],
   "execution_count":34,
   "outputs":[
    
   ],
   "metadata":{
    "datalore":{
     "node_id":"iqrBy0BhCfx8XKS6wXmgO3",
     "type":"CODE",
     "hide_input_from_viewers":false,
     "hide_output_from_viewers":false,
     "report_properties":{
      
     }
    }
   }
  },
  {
   "cell_type":"code",
   "source":[
    "encoder = make_column_transformer(\n",
    "    (OneHotEncoder(handle_unknown=\"ignore\", sparse=\"False\"), [\"Embarked\", \"Sex\", \"Pclass\"]),\n",
    "    remainder=\"passthrough\"\n",
    ")"
   ],
   "execution_count":35,
   "outputs":[
    
   ],
   "metadata":{
    "datalore":{
     "node_id":"EWHQTM2uG4Ii6RBqAYc1L3",
     "type":"CODE",
     "hide_input_from_viewers":false,
     "hide_output_from_viewers":false,
     "report_properties":{
      
     }
    }
   }
  },
  {
   "cell_type":"markdown",
   "source":[
    "Una vez creado unos tratamientos básicos para el preprocesamiento del conjunto de entrenamiento podemos crear el pipeline correspondiente. Pero existe un problema, no se puede aplicar dicho pipeline directamente a nuesto conjunto dado que al aplicar el primer transformador devolverá un array, por lo tanto, no podrá seguir el preproceso al no estar indicados los índices de las variables a tratar."
   ],
   "attachments":{
    
   },
   "metadata":{
    "datalore":{
     "node_id":"Wt6okkIob96lou1q46TP6U",
     "type":"MD",
     "hide_input_from_viewers":false,
     "hide_output_from_viewers":false,
     "report_properties":{
      
     }
    }
   }
  },
  {
   "cell_type":"code",
   "source":[
    "from sklearn.pipeline import make_pipeline"
   ],
   "execution_count":36,
   "outputs":[
    
   ],
   "metadata":{
    "datalore":{
     "node_id":"guyta8deKPpo0YQQ0jyumR",
     "type":"CODE",
     "hide_input_from_viewers":false,
     "hide_output_from_viewers":false,
     "report_properties":{
      
     }
    }
   }
  },
  {
   "cell_type":"code",
   "source":[
    "preprocessing = make_pipeline(imputer, normalizer, encoder)"
   ],
   "execution_count":37,
   "outputs":[
    
   ],
   "metadata":{
    "datalore":{
     "node_id":"LtNE4kEdfXBzDtdqWvEWuA",
     "type":"CODE",
     "hide_input_from_viewers":false,
     "hide_output_from_viewers":false,
     "report_properties":{
      
     }
    }
   }
  },
  {
   "cell_type":"markdown",
   "source":[
    "Para solucionar el problema anterior planteamos lo siguiente: teniendo un método que sea capaz de calcular los índices correspondientes a cada variable seremos capaces de elaborar otro método que cree automáticamente un pipeline. Por lo tanto, haciendo uso del método proporcionado por Juan Carlos Alfaro, se trata de `print_feature_indexes`, se puede calcular los índices de las variables afectadas en los ColumnTransformer."
   ],
   "attachments":{
    
   },
   "metadata":{
    "datalore":{
     "node_id":"SDJQuxP2bDGy1dJpLACcO4",
     "type":"MD",
     "hide_input_from_viewers":false,
     "hide_output_from_viewers":false,
     "report_properties":{
      
     }
    }
   }
  },
  {
   "cell_type":"code",
   "source":[
    "def print_feature_indexes(preprocessing, X):\n",
    "    \"\"\"Print the index of the features after each step.\"\"\"\n",
    "    # Copy the original dataframe to not modify it\n",
    "    X_copy = X.copy()\n",
    "\n",
    "    list_indexes = list()\n",
    "    \n",
    "    for index, step in enumerate(preprocessing):\n",
    "        # Fit the transformer to the modified dataframe\n",
    "        step.fit(X_copy) \n",
    "\n",
    "        # Get the name of the features after training the transformer\n",
    "        feature_names = [name.split(\"__\")[-1] for name in step.get_feature_names_out()]\n",
    "\n",
    "        # Create the new dataframe with the features provided by the transformer \n",
    "        X_copy = pd.DataFrame(step.transform(X_copy), columns=feature_names)\n",
    "\n",
    "        list_indexes.append(list(enumerate(feature_names)))\n",
    "    \n",
    "    return list_indexes"
   ],
   "execution_count":38,
   "outputs":[
    
   ],
   "metadata":{
    "datalore":{
     "node_id":"5VacITUEGvuoFmCdcxfOBR",
     "type":"CODE",
     "hide_input_from_viewers":false,
     "hide_output_from_viewers":false,
     "report_properties":{
      
     }
    }
   }
  },
  {
   "cell_type":"code",
   "source":[
    "indexes = print_feature_indexes(preprocessing,X)\n",
    "indexes"
   ],
   "execution_count":39,
   "outputs":[
    {
     "data":{
      "text\/plain":[
       "[[(0, 'Age'), (1, 'Fare'), (2, 'Embarked'), (3, 'Sex'), (4, 'Pclass')],\n",
       " [(0, 'Age'), (1, 'Fare'), (2, 'Embarked'), (3, 'Sex'), (4, 'Pclass')],\n",
       " [(0, 'Embarked_C'),\n",
       "  (1, 'Embarked_Q'),\n",
       "  (2, 'Embarked_S'),\n",
       "  (3, 'Sex_female'),\n",
       "  (4, 'Sex_male'),\n",
       "  (5, 'Pclass_1'),\n",
       "  (6, 'Pclass_2'),\n",
       "  (7, 'Pclass_3'),\n",
       "  (8, 'Age'),\n",
       "  (9, 'Fare')]]"
      ]
     },
     "metadata":{
      
     },
     "output_type":"display_data"
    }
   ],
   "metadata":{
    "datalore":{
     "node_id":"QkpfzvxKzctppJ1DdS7VFn",
     "type":"CODE",
     "hide_input_from_viewers":false,
     "hide_output_from_viewers":false,
     "report_properties":{
      
     }
    }
   }
  },
  {
   "cell_type":"markdown",
   "source":[
    "Una vez tenemos dichos índices somos capaces de crear el pipeline automáticamente, para ello creamos el método `create_pipeline` que dado un pipeline y los índices de las variables crea un pipeline. Dicho método hace lo siguiente:\n",
    "\n",
    "* El primer transformador del pipeline seguirá siendo el mismo dado que el primer transformador recibe nuestro set de entrenamiento.\n",
    "* A partir del siguiente paso del preproceso iteramos en un bucle donde: \n",
    "    * Crearemos un diccionario con los índices de las variables de la iteración anterior.\n",
    "    * Sacamos cuales son las variables que utiliza el transformador actual.\n",
    "    * Creamos el ColumnTransformer con el mismo nombre y en el caso de las variables utilizamos una lista de comprensión que calcula el índice correspondiente consultando el diccionario anterior.\n",
    "    * Por último, añadimos dicho ColumnTransformer al pipeline utilizando `.steps.append()`.\n",
    "* Una vez terminado el bucle devolvemos el pipeline resultante."
   ],
   "attachments":{
    
   },
   "metadata":{
    "datalore":{
     "node_id":"RFFSnh2JwYiXkyTDj57Tca",
     "type":"MD",
     "hide_input_from_viewers":false,
     "hide_output_from_viewers":false,
     "report_properties":{
      
     }
    }
   }
  },
  {
   "cell_type":"code",
   "source":[
    "def create_pipeline(preprocessing, indexes):\n",
    "    preprocessors = make_pipeline(preprocessing[0])\n",
    "\n",
    "    i = 0\n",
    "    for step in preprocessing[1:]:\n",
    "        features_indexes = dict([ind[::-1] for ind in indexes[i]])\n",
    "        \n",
    "        for transformer in step.transformers:\n",
    "            features_in = transformer[2]\n",
    "            \n",
    "            prep_step = make_column_transformer(\n",
    "            (transformer[1], [features_indexes[feature] for feature in features_in]),\n",
    "            remainder=\"passthrough\"\n",
    "            )\n",
    "\n",
    "            preprocessors.steps.append([transformer[0], prep_step])\n",
    "\n",
    "        i += 1\n",
    "    \n",
    "    return preprocessors"
   ],
   "execution_count":3,
   "outputs":[
    
   ],
   "metadata":{
    "datalore":{
     "node_id":"bSZBwKRp6lqdDZoIwiboNk",
     "type":"CODE",
     "hide_input_from_viewers":false,
     "hide_output_from_viewers":false,
     "report_properties":{
      
     }
    }
   }
  },
  {
   "cell_type":"code",
   "source":[
    "basic_preprocessing = create_pipeline(preprocessing, indexes)"
   ],
   "execution_count":41,
   "outputs":[
    
   ],
   "metadata":{
    "datalore":{
     "node_id":"mIl6tVMSt5dJJUmZBAOoTK",
     "type":"CODE",
     "hide_input_from_viewers":false,
     "hide_output_from_viewers":false,
     "report_properties":{
      
     }
    }
   }
  },
  {
   "cell_type":"markdown",
   "source":[
    "Con el objetivo de realizar una comparación posterior a la hora de la validación crearemos un pipeline más complejo. Para crear dicho pipeline más complejo añadiremos un discretizador para las variable númericas, se tratará de un KBinsDiscretizer y se aplicará sobre las variables predictoras Age y Fare. Además, realizaremos el tratamiento necesario para eliminar las variables comentadas en la fase anterior de análisis exploratioro de nuestro conjunto de datos."
   ],
   "attachments":{
    
   },
   "metadata":{
    "datalore":{
     "node_id":"TSdV9q5sEadMI5epn8auXc",
     "type":"MD",
     "hide_input_from_viewers":false,
     "hide_output_from_viewers":false,
     "report_properties":{
      
     }
    }
   }
  },
  {
   "cell_type":"code",
   "source":[
    "from sklearn.preprocessing import KBinsDiscretizer"
   ],
   "execution_count":42,
   "outputs":[
    
   ],
   "metadata":{
    "datalore":{
     "node_id":"1bIbQmtUYjx6JET3JUl5pP",
     "type":"CODE",
     "hide_input_from_viewers":false,
     "hide_output_from_viewers":false,
     "report_properties":{
      
     }
    }
   }
  },
  {
   "cell_type":"code",
   "source":[
    "discretizer = make_column_transformer(\n",
    "    (KBinsDiscretizer(n_bins=3,strategy=\"uniform\"), [\"Age\", \"Fare\"]),\n",
    "    remainder=\"passthrough\"\n",
    ")"
   ],
   "execution_count":43,
   "outputs":[
    
   ],
   "metadata":{
    "datalore":{
     "node_id":"P6bKEcTrVg1lT9G62bTsHv",
     "type":"CODE",
     "hide_input_from_viewers":false,
     "hide_output_from_viewers":false,
     "report_properties":{
      
     }
    }
   }
  },
  {
   "cell_type":"markdown",
   "source":[
    "Para eliminar una serie de variables predictoras tenemos que añadir al primer ColumnTransformer las variables que queremos eliminar con una tupla indicando 'drop' y la lista de variables predictoras a eliminar."
   ],
   "attachments":{
    
   },
   "metadata":{
    "datalore":{
     "node_id":"hgSm6GAQHpJb7CEpLz5sMC",
     "type":"MD",
     "hide_input_from_viewers":false,
     "hide_output_from_viewers":false,
     "report_properties":{
      
     }
    }
   }
  },
  {
   "cell_type":"code",
   "source":[
    "imputer = make_column_transformer(\n",
    "    (SimpleImputer(strategy=\"median\"), [\"Age\", \"Fare\"]),\n",
    "    (SimpleImputer(strategy=\"most_frequent\"), [\"Embarked\", \"Sex\", \"Pclass\"]),\n",
    "    ('drop', [\"Name\",\"Ticket\",\"Cabin\"]),\n",
    "    remainder='passthrough'\n",
    ")"
   ],
   "execution_count":44,
   "outputs":[
    
   ],
   "metadata":{
    "datalore":{
     "node_id":"3AjKyIWaTyuH6c4qCKIgmS",
     "type":"CODE",
     "hide_input_from_viewers":false,
     "hide_output_from_viewers":false,
     "report_properties":{
      
     }
    }
   }
  },
  {
   "cell_type":"markdown",
   "source":[
    "Una vez creados los transformadores necesarios podemos crear nuestro pipeline más complejo."
   ],
   "attachments":{
    
   },
   "metadata":{
    "datalore":{
     "node_id":"LZqVUw8Cx4vzZncpQqZ5rI",
     "type":"MD",
     "hide_input_from_viewers":false,
     "hide_output_from_viewers":false,
     "report_properties":{
      
     }
    }
   }
  },
  {
   "cell_type":"code",
   "source":[
    "preprocessing = make_pipeline(imputer, normalizer, discretizer, encoder)"
   ],
   "execution_count":45,
   "outputs":[
    
   ],
   "metadata":{
    "datalore":{
     "node_id":"uRJhD3IIrYhhYZ4jj5zFjw",
     "type":"CODE",
     "hide_input_from_viewers":false,
     "hide_output_from_viewers":false,
     "report_properties":{
      
     }
    }
   }
  },
  {
   "cell_type":"code",
   "source":[
    "indexes = print_feature_indexes(preprocessing, X)\n",
    "\n",
    "complex_preprocessing = create_pipeline(preprocessing, indexes)"
   ],
   "execution_count":46,
   "outputs":[
    
   ],
   "metadata":{
    "datalore":{
     "node_id":"mRvbcYjLPNQ64DeanUjTAW",
     "type":"CODE",
     "hide_input_from_viewers":false,
     "hide_output_from_viewers":false,
     "report_properties":{
      
     }
    }
   }
  },
  {
   "cell_type":"markdown",
   "source":[
    "# <a id=\"validacion\"><\/a>\n",
    "# <font> 5. Validación de modelos<\/font>\n",
    "Por último, una vez creados los pipeline de preprocesamiento tendremos que construir los distintos modelos con los clasificadores oportunos. En este caso utilizaremos ZeroR y un árbol de decisión, para ello crearemos un pipeline que estará compuesto por el pipeline de preproceso y el clasificador.\n",
    "\n",
    "Por lo tanto, creando dichos pipeline podemos reproducir el tratamiento sobre un conjunto de datos recibidos por igual para el entrenamiento y para el test."
   ],
   "attachments":{
    
   },
   "metadata":{
    "datalore":{
     "node_id":"s8P5zXdVAjAhOjzW0egv3P",
     "type":"MD",
     "hide_input_from_viewers":false,
     "hide_output_from_viewers":false,
     "report_properties":{
      
     }
    }
   }
  },
  {
   "cell_type":"code",
   "source":[
    "arguments = {\"labels\": target, \"axis\": \"columns\"}"
   ],
   "execution_count":47,
   "outputs":[
    
   ],
   "metadata":{
    "datalore":{
     "node_id":"Ym479xat9iz7y4GHCw1KPQ",
     "type":"CODE",
     "hide_input_from_viewers":false,
     "hide_output_from_viewers":false,
     "report_properties":{
      
     }
    }
   }
  },
  {
   "cell_type":"code",
   "source":[
    "X_test = test.drop(**arguments)"
   ],
   "execution_count":48,
   "outputs":[
    
   ],
   "metadata":{
    "datalore":{
     "node_id":"9VqH7iHvqpF5NGGTZX480u",
     "type":"CODE",
     "hide_input_from_viewers":false,
     "hide_output_from_viewers":false,
     "report_properties":{
      
     }
    }
   }
  },
  {
   "cell_type":"code",
   "source":[
    "y_test = test[target]"
   ],
   "execution_count":49,
   "outputs":[
    
   ],
   "metadata":{
    "datalore":{
     "node_id":"2zksN6bbnEtMl6nHp3HqAn",
     "type":"CODE",
     "hide_input_from_viewers":false,
     "hide_output_from_viewers":false,
     "report_properties":{
      
     }
    }
   }
  },
  {
   "cell_type":"markdown",
   "source":[
    "El primier clasificador que vamos a probar es el ZeroR, por lo tanto, creamos el pipeline correspondiente. "
   ],
   "attachments":{
    
   },
   "metadata":{
    "datalore":{
     "node_id":"1OC9vF6NIxeGnVRBZzyJ4o",
     "type":"MD",
     "hide_input_from_viewers":false,
     "hide_output_from_viewers":false,
     "report_properties":{
      
     }
    }
   }
  },
  {
   "cell_type":"code",
   "source":[
    "parameters = {\"strategy\": \"most_frequent\"}\n",
    "dummy = estimators[\"DummyClassifier\"]\n",
    "dummy = dummy(**parameters)"
   ],
   "execution_count":50,
   "outputs":[
    
   ],
   "metadata":{
    "datalore":{
     "node_id":"HsOX5huZab8ocNa5K52oly",
     "type":"CODE",
     "hide_input_from_viewers":false,
     "hide_output_from_viewers":false,
     "report_properties":{
      
     }
    }
   }
  },
  {
   "cell_type":"code",
   "source":[
    "zeroR_pipeline = make_pipeline(basic_preprocessing, dummy)"
   ],
   "execution_count":51,
   "outputs":[
    
   ],
   "metadata":{
    "datalore":{
     "node_id":"3OzBoJeRsTWe5yQ3a97Owb",
     "type":"CODE",
     "hide_input_from_viewers":false,
     "hide_output_from_viewers":false,
     "report_properties":{
      
     }
    }
   }
  },
  {
   "cell_type":"markdown",
   "source":[
    "Una vez creado dicho pipeline crearemos una función lambda para realizar el entrenamiento y calcular el porcentaje de aciertos del clasificador a la vez, en este caso está realizado sobre el set de entrenamiento para posteriormente comparar frente al test y ver así como un clasificador puede llegar a sobreajustar sobre el conjunto de entrenamiento."
   ],
   "attachments":{
    
   },
   "metadata":{
    "datalore":{
     "node_id":"6cSoWLWbFkiWqeCebHdlFt",
     "type":"MD",
     "hide_input_from_viewers":false,
     "hide_output_from_viewers":false,
     "report_properties":{
      
     }
    }
   }
  },
  {
   "cell_type":"code",
   "source":[
    "evaluate_train = lambda estimators, X, y: estimators.fit(X, y).score(X, y)"
   ],
   "execution_count":52,
   "outputs":[
    
   ],
   "metadata":{
    "datalore":{
     "node_id":"AWNUHokbDcOCVu0qF6dzAp",
     "type":"CODE",
     "hide_input_from_viewers":false,
     "hide_output_from_viewers":false,
     "report_properties":{
      
     }
    }
   }
  },
  {
   "cell_type":"code",
   "source":[
    "zeroR_train = evaluate_train(zeroR_pipeline, X, y)\n",
    "zeroR_train"
   ],
   "execution_count":53,
   "outputs":[
    {
     "data":{
      "text\/plain":[
       "0.6163723916532905"
      ]
     },
     "metadata":{
      
     },
     "output_type":"display_data"
    }
   ],
   "metadata":{
    "datalore":{
     "node_id":"tK6itD9XZwu7aujvL3QsqT",
     "type":"CODE",
     "hide_input_from_viewers":false,
     "hide_output_from_viewers":false,
     "report_properties":{
      
     }
    }
   }
  },
  {
   "cell_type":"markdown",
   "source":[
    "Creamos el pipeline correspondiente a aplicar un preprocesamiento básico y un árbol de decisión."
   ],
   "attachments":{
    
   },
   "metadata":{
    "datalore":{
     "node_id":"SUaLZ8L5J3MeYMCvDFnlh4",
     "type":"MD",
     "hide_input_from_viewers":false,
     "hide_output_from_viewers":false,
     "report_properties":{
      
     }
    }
   }
  },
  {
   "cell_type":"code",
   "source":[
    "parameters = {'random_state': seed}\n",
    "tree = estimators['DecisionTreeClassifier']\n",
    "tree = tree(**parameters)"
   ],
   "execution_count":54,
   "outputs":[
    
   ],
   "metadata":{
    "datalore":{
     "node_id":"9JDM6ugbMrVfVcwSMsN7aA",
     "type":"CODE",
     "hide_input_from_viewers":false,
     "hide_output_from_viewers":false,
     "report_properties":{
      
     }
    }
   }
  },
  {
   "cell_type":"code",
   "source":[
    "basic_pipeline = make_pipeline(basic_preprocessing, tree)"
   ],
   "execution_count":55,
   "outputs":[
    
   ],
   "metadata":{
    "datalore":{
     "node_id":"41AE5FoZvQAZeu0rlaRp0v",
     "type":"CODE",
     "hide_input_from_viewers":false,
     "hide_output_from_viewers":false,
     "report_properties":{
      
     }
    }
   }
  },
  {
   "cell_type":"code",
   "source":[
    "basic_train = evaluate_train(basic_pipeline, X, y)\n",
    "basic_train"
   ],
   "execution_count":56,
   "outputs":[
    {
     "data":{
      "text\/plain":[
       "0.9871589085072231"
      ]
     },
     "metadata":{
      
     },
     "output_type":"display_data"
    }
   ],
   "metadata":{
    "datalore":{
     "node_id":"K8hGRRYe6FE2MI8pKIBIYm",
     "type":"CODE",
     "hide_input_from_viewers":false,
     "hide_output_from_viewers":false,
     "report_properties":{
      
     }
    }
   }
  },
  {
   "cell_type":"markdown",
   "source":[
    "Por último, creamos el pipeline correspondiente a aplicar un preprocesamiento más complejo que el anterior y utilizando un árbol de decisión."
   ],
   "attachments":{
    
   },
   "metadata":{
    "datalore":{
     "node_id":"gTTmpBaXBka3kPEaKGRVEi",
     "type":"MD",
     "hide_input_from_viewers":false,
     "hide_output_from_viewers":false,
     "report_properties":{
      
     }
    }
   }
  },
  {
   "cell_type":"code",
   "source":[
    "complex_pipeline = make_pipeline(complex_preprocessing, tree)"
   ],
   "execution_count":57,
   "outputs":[
    
   ],
   "metadata":{
    "datalore":{
     "node_id":"2ELUoIJ4gqQ4v56O0ynCBa",
     "type":"CODE",
     "hide_input_from_viewers":false,
     "hide_output_from_viewers":false,
     "report_properties":{
      
     }
    }
   }
  },
  {
   "cell_type":"code",
   "source":[
    "complex_train = evaluate_train(complex_pipeline, X, y)\n",
    "complex_train"
   ],
   "execution_count":58,
   "outputs":[
    {
     "data":{
      "text\/plain":[
       "0.8667736757624398"
      ]
     },
     "metadata":{
      
     },
     "output_type":"display_data"
    }
   ],
   "metadata":{
    "datalore":{
     "node_id":"Bs8bjIGAPThqhjIOIh2gxi",
     "type":"CODE",
     "hide_input_from_viewers":false,
     "hide_output_from_viewers":false,
     "report_properties":{
      
     }
    }
   }
  },
  {
   "cell_type":"markdown",
   "source":[
    "Como ha sido comentado anteriormente, dicha evaluación es contra el conjunto de entrenamiento con el único fin de comparar como un clasificador sobreajusta o no. Por lo tanto, para validar correctamente un modelo creamos una función lambda que entrena con el conjunto de entrenamiento y calcula el porcentaje de aciertos con el conjunto de test, teniendo así un valor representativo de cuanto acierta nuestros modelos."
   ],
   "attachments":{
    
   },
   "metadata":{
    "datalore":{
     "node_id":"PaspTveSzuQSkuPeslwGH1",
     "type":"MD",
     "hide_input_from_viewers":false,
     "hide_output_from_viewers":false,
     "report_properties":{
      
     }
    }
   }
  },
  {
   "cell_type":"code",
   "source":[
    "evaluate = lambda estimators, X, y, X_test, y_test: estimators.fit(X, y).score(X_test, y_test)"
   ],
   "execution_count":59,
   "outputs":[
    
   ],
   "metadata":{
    "datalore":{
     "node_id":"baqP84QuaHk7WnwYn6ivtM",
     "type":"CODE",
     "hide_input_from_viewers":false,
     "hide_output_from_viewers":false,
     "report_properties":{
      
     }
    }
   }
  },
  {
   "cell_type":"code",
   "source":[
    "zeroR_test = evaluate(zeroR_pipeline, X, y, X_test, y_test)\n",
    "zeroR_test"
   ],
   "execution_count":60,
   "outputs":[
    {
     "data":{
      "text\/plain":[
       "0.6156716417910447"
      ]
     },
     "metadata":{
      
     },
     "output_type":"display_data"
    }
   ],
   "metadata":{
    "datalore":{
     "node_id":"7YXs3IwHDs7FZSviBtuymj",
     "type":"CODE",
     "hide_input_from_viewers":false,
     "hide_output_from_viewers":false,
     "report_properties":{
      
     }
    }
   }
  },
  {
   "cell_type":"code",
   "source":[
    "basic_test = evaluate(basic_pipeline, X, y, X_test, y_test)\n",
    "basic_test"
   ],
   "execution_count":61,
   "outputs":[
    {
     "data":{
      "text\/plain":[
       "0.7574626865671642"
      ]
     },
     "metadata":{
      
     },
     "output_type":"display_data"
    }
   ],
   "metadata":{
    "datalore":{
     "node_id":"kbDwXkUmKfdkouP2wChZQr",
     "type":"CODE",
     "hide_input_from_viewers":false,
     "hide_output_from_viewers":false,
     "report_properties":{
      
     }
    }
   }
  },
  {
   "cell_type":"code",
   "source":[
    "complex_test = evaluate(complex_pipeline, X, y, X_test, y_test)\n",
    "complex_test"
   ],
   "execution_count":62,
   "outputs":[
    {
     "data":{
      "text\/plain":[
       "0.7686567164179104"
      ]
     },
     "metadata":{
      
     },
     "output_type":"display_data"
    }
   ],
   "metadata":{
    "datalore":{
     "node_id":"6pmuKenLMQFVjYKuyONkEG",
     "type":"CODE",
     "hide_input_from_viewers":false,
     "hide_output_from_viewers":false,
     "report_properties":{
      
     }
    }
   }
  },
  {
   "cell_type":"markdown",
   "source":[
    "Para comparar los resultados de una mejor forma los representaremos mediante una gráfica de barras. En esta primera gráfica, sobre el conjunto de entrenamiento, se puede apreciar como el pipeline que realiza un preprocesamiento básico y utiliza un árbol de decisión obtiene un mayor acierto frente al resto, cercana a 1.0. Dicha apreciación no indica que sea el mejor clasificador, dado que puede suceder que se este sobreajustando al conjunto de entrenamiento, por lo tanto, para comprobar si es el mejor clasificador tendremos que enfrentarlo contra el conjunto de validación."
   ],
   "attachments":{
    
   },
   "metadata":{
    "datalore":{
     "node_id":"1OpVR2yjIGh05omtaJWPya",
     "type":"MD",
     "hide_input_from_viewers":false,
     "hide_output_from_viewers":false,
     "report_properties":{
      
     }
    }
   }
  },
  {
   "cell_type":"code",
   "source":[
    "names = ['ZeroR', 'BasicPrep Tree', 'ComplexPrep Tree']\n",
    "values_train = [zeroR_train, basic_train, complex_train]\n",
    "values_test = [zeroR_test, basic_test, complex_test]\n",
    "\n",
    "plt.bar(names, values_train)\n",
    "plt.title(\"Accuraccy en el entrenamiento\")\n",
    "plt.show"
   ],
   "execution_count":63,
   "outputs":[
    {
     "data":{
      "text\/plain":[
       "<function matplotlib.pyplot.show(close=None, block=None)>"
      ]
     },
     "metadata":{
      
     },
     "output_type":"display_data"
    },
    {
     "data":{
      "image\/png":"[encoded data removed]"
     },
     "metadata":{
      "image\/png":{
       
      }
     },
     "output_type":"display_data"
    }
   ],
   "metadata":{
    "datalore":{
     "node_id":"yGP4SsDGRYz2cZacT9cTE5",
     "type":"CODE",
     "hide_input_from_viewers":false,
     "hide_output_from_viewers":false,
     "report_properties":{
      
     }
    }
   }
  },
  {
   "cell_type":"markdown",
   "source":[
    "Por lo tanto, si observamos como responden los distintos clasificadores frente al conjunto de validación comprobamos que el árbol de decisión con un preprocesamiento básico que antes obtenia el mejor acierto ahora no lo es, esto se debe a que dicho clasificador estaba sobreajustando. En conclusión, hay que esperar a enfrentar nuestro modelo contra el conjunto de validación para comprobar cuál puede llegar a funcionar mejor."
   ],
   "attachments":{
    
   },
   "metadata":{
    "datalore":{
     "node_id":"uRpHTHMI3aiy94QkNsFkFC",
     "type":"MD",
     "hide_input_from_viewers":false,
     "hide_output_from_viewers":false,
     "report_properties":{
      
     }
    }
   }
  },
  {
   "cell_type":"code",
   "source":[
    "plt.bar(names, values_test,color=['orange'])\n",
    "plt.title(\"Accuraccy en la validación\")\n",
    "plt.show"
   ],
   "execution_count":64,
   "outputs":[
    {
     "data":{
      "text\/plain":[
       "<function matplotlib.pyplot.show(close=None, block=None)>"
      ]
     },
     "metadata":{
      
     },
     "output_type":"display_data"
    },
    {
     "data":{
      "image\/png":"[encoded data removed]"
     },
     "metadata":{
      "image\/png":{
       
      }
     },
     "output_type":"display_data"
    }
   ],
   "metadata":{
    "datalore":{
     "node_id":"sURUVGEkIBG67X9kHvD5hG",
     "type":"CODE",
     "hide_input_from_viewers":false,
     "hide_output_from_viewers":false,
     "report_properties":{
      
     }
    }
   }
  },
  {
   "cell_type":"markdown",
   "source":[
    "Aunque hemos realizado todo el proceso siempre respetando el conjunto de validación y, además, respetando la proporción de la variable clase puede ser que dicha división entre train y test favorezca o perjudique a los resultados obtenidos. Por lo tanto, para obtener una mejor aproximación realizaremos una **5-Cross Validation** en la que diviremos nuestro conjunto de datos en 5 carpetas con la misma proporción al ser stratified, además, realizaremos dicho proceso 5."
   ],
   "attachments":{
    
   },
   "metadata":{
    "datalore":{
     "node_id":"esZnB95n3PXADRbyim5Feh",
     "type":"MD",
     "hide_input_from_viewers":false,
     "hide_output_from_viewers":false,
     "report_properties":{
      
     }
    }
   }
  },
  {
   "cell_type":"code",
   "source":[
    "data_copy = data.copy()\n",
    "X = data_copy.drop(**arguments)\n",
    "y = data_copy[target]"
   ],
   "execution_count":65,
   "outputs":[
    
   ],
   "metadata":{
    "datalore":{
     "node_id":"fIqGpLLCUPAmTLX36xpaTI",
     "type":"CODE",
     "hide_input_from_viewers":false,
     "hide_output_from_viewers":false,
     "report_properties":{
      
     }
    }
   }
  },
  {
   "cell_type":"markdown",
   "source":[
    "Para realizar lo comentado utilizaremos `RepeatedStratifiedKFold`."
   ],
   "attachments":{
    
   },
   "metadata":{
    "datalore":{
     "node_id":"skNJVOGw7iipcNNyTSKXkp",
     "type":"MD",
     "hide_input_from_viewers":false,
     "hide_output_from_viewers":false,
     "report_properties":{
      
     }
    }
   }
  },
  {
   "cell_type":"code",
   "source":[
    "from sklearn.model_selection import RepeatedStratifiedKFold\n",
    "rskf = RepeatedStratifiedKFold(n_splits=5, n_repeats=5)\n",
    "\n",
    "zeroR_cv, basic_cv, complex_cv = 0, 0, 0\n",
    "niter = 0\n",
    "for train_index, test_index in rskf.split(X, y):\n",
    "    X_train, X_test = X.iloc[train_index,:], X.iloc[test_index,:]\n",
    "    y_train, y_test = y.iloc[train_index], y.iloc[test_index]\n",
    "    \n",
    "    zeroR_cv += evaluate(zeroR_pipeline, X_train, y_train, X_test, y_test)\n",
    "    basic_cv += evaluate(basic_pipeline, X_train, y_train, X_test, y_test)\n",
    "    complex_cv += evaluate(complex_pipeline, X_train, y_train, X_test, y_test)\n",
    "\n",
    "    niter += 1\n",
    "\n",
    "zeroR_cv = zeroR_cv\/niter\n",
    "basic_cv = basic_cv\/niter\n",
    "complex_cv = complex_cv\/niter"
   ],
   "execution_count":66,
   "outputs":[
    
   ],
   "metadata":{
    "datalore":{
     "node_id":"sUZ1u4V4YgWpbBgsCduaXG",
     "type":"CODE",
     "hide_input_from_viewers":false,
     "hide_output_from_viewers":false,
     "report_properties":{
      
     }
    }
   }
  },
  {
   "cell_type":"code",
   "source":[
    "print(\"ZeroR: \",zeroR_cv)\n",
    "print(\"Basic preprocessing Tree: \", basic_cv)\n",
    "print(\"Complex preprocessing Tree: \", complex_cv)"
   ],
   "execution_count":67,
   "outputs":[
    {
     "name":"stdout",
     "text":[
      "ZeroR:  0.6161634548992533\n",
      "Basic preprocessing Tree:  0.7865093214487479\n",
      "Complex preprocessing Tree:  0.7995254535182977\n"
     ],
     "output_type":"stream"
    }
   ],
   "metadata":{
    "datalore":{
     "node_id":"Li2xf4MDVbpZigk1B73UVJ",
     "type":"CODE",
     "hide_input_from_viewers":false,
     "hide_output_from_viewers":false,
     "report_properties":{
      
     }
    }
   }
  },
  {
   "cell_type":"markdown",
   "source":[
    "Cuando aplicamos Cross Validation somos capaces de promediar el resultado de nuestros modelos, por lo tanto, será un resultado con mayor peso frente al realizada tras una división aleatoria dado que dicho promedio hace que el resultado se próximo al de la realidad. "
   ],
   "attachments":{
    
   },
   "metadata":{
    "datalore":{
     "node_id":"SLyUA8xUmyyYlMnxL8Z5Yt",
     "type":"MD",
     "hide_input_from_viewers":false,
     "hide_output_from_viewers":false,
     "report_properties":{
      
     }
    }
   }
  },
  {
   "cell_type":"code",
   "source":[
    "values_cv = [zeroR_cv, basic_cv, complex_cv]\n",
    "\n",
    "plt.bar(names, values_cv,color=['green'])\n",
    "plt.title(\"5-Cross Validation\")\n",
    "plt.show"
   ],
   "execution_count":68,
   "outputs":[
    {
     "data":{
      "text\/plain":[
       "<function matplotlib.pyplot.show(close=None, block=None)>"
      ]
     },
     "metadata":{
      
     },
     "output_type":"display_data"
    },
    {
     "data":{
      "image\/png":"[encoded data removed]"
     },
     "metadata":{
      "image\/png":{
       
      }
     },
     "output_type":"display_data"
    }
   ],
   "metadata":{
    "datalore":{
     "node_id":"nymyUUDLyibIhkINhoR7RI",
     "type":"CODE",
     "hide_input_from_viewers":false,
     "hide_output_from_viewers":false,
     "report_properties":{
      
     }
    }
   }
  },
  {
   "cell_type":"code",
   "source":[
    
   ],
   "execution_count":null,
   "outputs":[
    
   ],
   "metadata":{
    "datalore":{
     "node_id":"GczlvNxd7yagspURPrvxRC",
     "type":"CODE",
     "hide_input_from_viewers":false,
     "hide_output_from_viewers":false,
     "report_properties":{
      
     }
    }
   }
  }
 ],
 "metadata":{
  "kernelspec":{
   "display_name":"Python",
   "language":"python",
   "name":"python"
  },
  "datalore":{
   "version":1,
   "computation_mode":"JUPYTER",
   "package_manager":"pip",
   "base_environment":"default",
   "packages":[
    {
     "name":"scikit-learn",
     "version":"1.1.3",
     "source":"PIP"
    }
   ]
  }
 },
 "nbformat":4,
 "nbformat_minor":4
}